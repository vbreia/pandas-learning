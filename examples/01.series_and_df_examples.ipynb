{
 "cells": [
  {
   "cell_type": "markdown",
   "metadata": {},
   "source": [
    "### Import libs"
   ]
  },
  {
   "cell_type": "code",
   "execution_count": 1,
   "metadata": {},
   "outputs": [],
   "source": [
    "import pandas as pd"
   ]
  },
  {
   "cell_type": "markdown",
   "metadata": {},
   "source": [
    "# Series\n",
    "\n",
    "A pandas Series is a one-dimensional labeled array that can hold any data type. It is similar to a column in a spreadsheet or a SQL table. Each element in a Series is associated with a unique label, called an index. Series can be created from various data structures like lists, arrays, or dictionaries.\n",
    "\n",
    "#### Function Parameters: \n",
    "- `data=x`: **_List_** that will be converted to a **_Series_**\n",
    "-  `index=[]`: Creates a  **_list_** of names for the **_Series Index_**\n",
    "\n"
   ]
  },
  {
   "cell_type": "code",
   "execution_count": 2,
   "metadata": {},
   "outputs": [
    {
     "data": {
      "text/plain": [
       "Empresa A    18.7\n",
       "Empresa B    39.7\n",
       "Empresa C    60.8\n",
       "Empresa D    51.9\n",
       "dtype: float64"
      ]
     },
     "execution_count": 2,
     "metadata": {},
     "output_type": "execute_result"
    }
   ],
   "source": [
    "# example of a series created by a list\n",
    "\n",
    "preco_acao = [18.7, 39.7, 60.8, 51.9]\n",
    "\n",
    "s_preco_acao = pd.Series(data=preco_acao,\n",
    "                         index= ['Empresa A', 'Empresa B', 'Empresa C', 'Empresa D'])\n",
    "s_preco_acao"
   ]
  },
  {
   "cell_type": "code",
   "execution_count": 3,
   "metadata": {},
   "outputs": [
    {
     "data": {
      "text/plain": [
       "empresa_a    18.7\n",
       "empresa_b    39.7\n",
       "empresa_c    60.8\n",
       "empresa_d    51.9\n",
       "dtype: float64"
      ]
     },
     "execution_count": 3,
     "metadata": {},
     "output_type": "execute_result"
    }
   ],
   "source": [
    "# example of a series created by a dict\n",
    "preco_acao_dict = {\n",
    "    'empresa_a' : 18.7,\n",
    "    'empresa_b' : 39.7,\n",
    "    'empresa_c' : 60.8,\t\n",
    "    'empresa_d' : 51.9\n",
    "}\n",
    "\n",
    "s_preco_acao_dict = pd.Series(preco_acao_dict)\n",
    "s_preco_acao_dict\n"
   ]
  },
  {
   "cell_type": "markdown",
   "metadata": {},
   "source": [
    "### Methods"
   ]
  },
  {
   "cell_type": "code",
   "execution_count": 4,
   "metadata": {},
   "outputs": [
    {
     "data": {
      "text/plain": [
       "Index(['Empresa A', 'Empresa B', 'Empresa C', 'Empresa D'], dtype='object')"
      ]
     },
     "execution_count": 4,
     "metadata": {},
     "output_type": "execute_result"
    }
   ],
   "source": [
    "#index: return the index of the series\n",
    "s_preco_acao.index"
   ]
  },
  {
   "cell_type": "code",
   "execution_count": 5,
   "metadata": {},
   "outputs": [
    {
     "data": {
      "text/plain": [
       "array([18.7, 39.7, 60.8, 51.9])"
      ]
     },
     "execution_count": 5,
     "metadata": {},
     "output_type": "execute_result"
    }
   ],
   "source": [
    "#values: return the values of the series\n",
    "s_preco_acao.values"
   ]
  },
  {
   "cell_type": "code",
   "execution_count": 6,
   "metadata": {},
   "outputs": [
    {
     "data": {
      "text/plain": [
       "(4,)"
      ]
     },
     "execution_count": 6,
     "metadata": {},
     "output_type": "execute_result"
    }
   ],
   "source": [
    "#shape: return the shape of the series\n",
    "s_preco_acao.shape"
   ]
  },
  {
   "cell_type": "code",
   "execution_count": 7,
   "metadata": {},
   "outputs": [
    {
     "data": {
      "text/plain": [
       "42.775"
      ]
     },
     "execution_count": 7,
     "metadata": {},
     "output_type": "execute_result"
    }
   ],
   "source": [
    "#mean: return the mean of the series\n",
    "s_preco_acao.mean()"
   ]
  },
  {
   "cell_type": "code",
   "execution_count": 8,
   "metadata": {},
   "outputs": [
    {
     "data": {
      "text/plain": [
       "mean      42.775\n",
       "max       60.800\n",
       "min       18.700\n",
       "median    45.800\n",
       "dtype: float64"
      ]
     },
     "execution_count": 8,
     "metadata": {},
     "output_type": "execute_result"
    }
   ],
   "source": [
    "#agg: returns a list with more than one required mathematical operation on a list in arguments\n",
    "s_preco_acao.agg(['mean', 'max', 'min', 'median'])"
   ]
  },
  {
   "cell_type": "code",
   "execution_count": 9,
   "metadata": {},
   "outputs": [
    {
     "data": {
      "text/plain": [
       "Empresa A    18.7\n",
       "Empresa B    39.7\n",
       "dtype: float64"
      ]
     },
     "execution_count": 9,
     "metadata": {},
     "output_type": "execute_result"
    }
   ],
   "source": [
    "#iloc: return the value of the series in the index passed as argument\n",
    "s_preco_acao.iloc[0:2]"
   ]
  },
  {
   "cell_type": "code",
   "execution_count": 10,
   "metadata": {},
   "outputs": [
    {
     "data": {
      "text/plain": [
       "Empresa A    18.7\n",
       "Empresa C    60.8\n",
       "dtype: float64"
      ]
     },
     "execution_count": 10,
     "metadata": {},
     "output_type": "execute_result"
    }
   ],
   "source": [
    "#loc: return the value of the series in the index passed as argument\n",
    "s_preco_acao.loc[['Empresa A', 'Empresa C']]"
   ]
  },
  {
   "cell_type": "markdown",
   "metadata": {},
   "source": [
    "### Example of mathematical operation between two series"
   ]
  },
  {
   "cell_type": "code",
   "execution_count": 11,
   "metadata": {},
   "outputs": [
    {
     "data": {
      "text/plain": [
       "Empresa A    4.155556\n",
       "Empresa B    3.413586\n",
       "Empresa C    6.537634\n",
       "Empresa D    5.118343\n",
       "dtype: float64"
      ]
     },
     "execution_count": 11,
     "metadata": {},
     "output_type": "execute_result"
    }
   ],
   "source": [
    "s_lucro_por_acao = pd.Series([4.5, 11.63, 9.3, 10.14], index=['Empresa A', 'Empresa B', 'Empresa C', 'Empresa D'])\n",
    "\n",
    "s_preco_sobre_lucro = s_preco_acao / s_lucro_por_acao\n",
    "s_preco_sobre_lucro"
   ]
  },
  {
   "cell_type": "markdown",
   "metadata": {},
   "source": [
    "# Dataframe\n",
    "\n",
    "A DataFrame is a collection of series. We will create a DataFrame using previously created series.\n",
    "\n",
    "#### Function Parameters: \n",
    "- `data={}`: Receives a **_Dict_**  containing the column name as the key and the **_Series_** as the value \n",
    " "
   ]
  },
  {
   "cell_type": "code",
   "execution_count": 12,
   "metadata": {},
   "outputs": [
    {
     "data": {
      "text/html": [
       "<div>\n",
       "<style scoped>\n",
       "    .dataframe tbody tr th:only-of-type {\n",
       "        vertical-align: middle;\n",
       "    }\n",
       "\n",
       "    .dataframe tbody tr th {\n",
       "        vertical-align: top;\n",
       "    }\n",
       "\n",
       "    .dataframe thead th {\n",
       "        text-align: right;\n",
       "    }\n",
       "</style>\n",
       "<table border=\"1\" class=\"dataframe\">\n",
       "  <thead>\n",
       "    <tr style=\"text-align: right;\">\n",
       "      <th></th>\n",
       "      <th>Preço</th>\n",
       "      <th>Lucro por ação</th>\n",
       "      <th>Preço sobre lucro</th>\n",
       "    </tr>\n",
       "  </thead>\n",
       "  <tbody>\n",
       "    <tr>\n",
       "      <th>Empresa A</th>\n",
       "      <td>18.7</td>\n",
       "      <td>4.50</td>\n",
       "      <td>4.155556</td>\n",
       "    </tr>\n",
       "    <tr>\n",
       "      <th>Empresa B</th>\n",
       "      <td>39.7</td>\n",
       "      <td>11.63</td>\n",
       "      <td>3.413586</td>\n",
       "    </tr>\n",
       "    <tr>\n",
       "      <th>Empresa C</th>\n",
       "      <td>60.8</td>\n",
       "      <td>9.30</td>\n",
       "      <td>6.537634</td>\n",
       "    </tr>\n",
       "    <tr>\n",
       "      <th>Empresa D</th>\n",
       "      <td>51.9</td>\n",
       "      <td>10.14</td>\n",
       "      <td>5.118343</td>\n",
       "    </tr>\n",
       "  </tbody>\n",
       "</table>\n",
       "</div>"
      ],
      "text/plain": [
       "           Preço  Lucro por ação  Preço sobre lucro\n",
       "Empresa A   18.7            4.50           4.155556\n",
       "Empresa B   39.7           11.63           3.413586\n",
       "Empresa C   60.8            9.30           6.537634\n",
       "Empresa D   51.9           10.14           5.118343"
      ]
     },
     "execution_count": 12,
     "metadata": {},
     "output_type": "execute_result"
    }
   ],
   "source": [
    "df_acoes = pd.DataFrame(data={'Preço': s_preco_acao,\n",
    "                              'Lucro por ação': s_lucro_por_acao, \n",
    "                              'Preço sobre lucro': s_preco_sobre_lucro})\n",
    "df_acoes"
   ]
  }
 ],
 "metadata": {
  "kernelspec": {
   "display_name": "venv",
   "language": "python",
   "name": "python3"
  },
  "language_info": {
   "codemirror_mode": {
    "name": "ipython",
    "version": 3
   },
   "file_extension": ".py",
   "mimetype": "text/x-python",
   "name": "python",
   "nbconvert_exporter": "python",
   "pygments_lexer": "ipython3",
   "version": "3.10.12"
  }
 },
 "nbformat": 4,
 "nbformat_minor": 2
}
