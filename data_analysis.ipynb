{
 "cells": [
  {
   "cell_type": "markdown",
   "metadata": {},
   "source": [
    "### Import libs"
   ]
  },
  {
   "cell_type": "code",
   "execution_count": 1,
   "metadata": {},
   "outputs": [],
   "source": [
    "import pandas as pd"
   ]
  },
  {
   "cell_type": "markdown",
   "metadata": {},
   "source": [
    "### Series example\n",
    "#### Function Parameters: \n",
    "- `data=x`: **_List_** that will be converted to a **_Series_**\n",
    "-  `index=[]`: Creates a  **_list_** of names for the **_Series Index_**"
   ]
  },
  {
   "cell_type": "code",
   "execution_count": 4,
   "metadata": {},
   "outputs": [
    {
     "data": {
      "text/plain": [
       "Empresa A    18.7\n",
       "Empresa B    39.7\n",
       "Empresa C    19.8\n",
       "Empresa D    19.9\n",
       "dtype: float64"
      ]
     },
     "execution_count": 4,
     "metadata": {},
     "output_type": "execute_result"
    }
   ],
   "source": [
    "preco_acao = [18.7, 39.7, 60.8, 51.9]\n",
    "\n",
    "s_preco_acao = pd.Series(data=preco_acao,\n",
    "                         index= ['Empresa A', 'Empresa B', 'Empresa C', 'Empresa D'])\n",
    "s_preco_acao"
   ]
  },
  {
   "cell_type": "markdown",
   "metadata": {},
   "source": []
  }
 ],
 "metadata": {
  "kernelspec": {
   "display_name": "venv",
   "language": "python",
   "name": "python3"
  },
  "language_info": {
   "codemirror_mode": {
    "name": "ipython",
    "version": 3
   },
   "file_extension": ".py",
   "mimetype": "text/x-python",
   "name": "python",
   "nbconvert_exporter": "python",
   "pygments_lexer": "ipython3",
   "version": "3.10.12"
  }
 },
 "nbformat": 4,
 "nbformat_minor": 2
}
